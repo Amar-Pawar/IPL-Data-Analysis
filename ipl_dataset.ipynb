{
 "cells": [
  {
   "cell_type": "code",
   "execution_count": 1,
   "source": [
    "from pyspark.sql import SparkSession\n",
    "try:\n",
    "    appName = \"PySpark IPL Data\"\n",
    "    master = \"local\"\n",
    "    spark = SparkSession.builder.master(master).appName(appName).getOrCreate()\n",
    "except Exception as e:\n",
    "    print(e)"
   ],
   "outputs": [
    {
     "output_type": "stream",
     "name": "stderr",
     "text": [
      "2021-10-06 09:32:54,917 WARN util.NativeCodeLoader: Unable to load native-hadoop library for your platform... using builtin-java classes where applicable\n",
      "Setting default log level to \"WARN\".\n",
      "To adjust logging level use sc.setLogLevel(newLevel). For SparkR, use setLogLevel(newLevel).\n"
     ]
    }
   ],
   "metadata": {}
  },
  {
   "cell_type": "markdown",
   "source": [
    "# Importing libraries"
   ],
   "metadata": {}
  },
  {
   "cell_type": "code",
   "execution_count": 2,
   "source": [
    "import pandas as pd\n",
    "from matplotlib import pyplot as plt\n",
    "from pyspark.sql.functions import *"
   ],
   "outputs": [],
   "metadata": {}
  },
  {
   "cell_type": "markdown",
   "source": [
    "# Reading csv file from HDFS into spark dataframe and creating temp view"
   ],
   "metadata": {}
  },
  {
   "cell_type": "code",
   "execution_count": 3,
   "source": [
    "df = spark.read.csv(\"hdfs://localhost:9000/Sample/ipl_matches.csv\",header=True)\n",
    "df.createOrReplaceTempView(\"ipl_view\")"
   ],
   "outputs": [
    {
     "output_type": "stream",
     "name": "stderr",
     "text": []
    }
   ],
   "metadata": {}
  },
  {
   "cell_type": "code",
   "execution_count": 4,
   "source": [
    "df.printSchema()"
   ],
   "outputs": [
    {
     "output_type": "stream",
     "name": "stdout",
     "text": [
      "root\n",
      " |-- id: string (nullable = true)\n",
      " |-- city: string (nullable = true)\n",
      " |-- date: string (nullable = true)\n",
      " |-- player_of_match: string (nullable = true)\n",
      " |-- venue: string (nullable = true)\n",
      " |-- neutral_venue: string (nullable = true)\n",
      " |-- team1: string (nullable = true)\n",
      " |-- team2: string (nullable = true)\n",
      " |-- toss_winner: string (nullable = true)\n",
      " |-- toss_decision: string (nullable = true)\n",
      " |-- winner: string (nullable = true)\n",
      " |-- result: string (nullable = true)\n",
      " |-- result_margin: string (nullable = true)\n",
      " |-- eliminator: string (nullable = true)\n",
      " |-- method: string (nullable = true)\n",
      " |-- umpire1: string (nullable = true)\n",
      " |-- umpire2: string (nullable = true)\n",
      "\n"
     ]
    }
   ],
   "metadata": {}
  },
  {
   "cell_type": "code",
   "execution_count": 5,
   "source": [
    "df.show(5)"
   ],
   "outputs": [
    {
     "output_type": "stream",
     "name": "stdout",
     "text": [
      "+------+----------+----------+---------------+--------------------+-------------+--------------------+--------------------+--------------------+-------------+--------------------+-------+-------------+----------+------+---------+--------------+\n",
      "|    id|      city|      date|player_of_match|               venue|neutral_venue|               team1|               team2|         toss_winner|toss_decision|              winner| result|result_margin|eliminator|method|  umpire1|       umpire2|\n",
      "+------+----------+----------+---------------+--------------------+-------------+--------------------+--------------------+--------------------+-------------+--------------------+-------+-------------+----------+------+---------+--------------+\n",
      "|335982| Bangalore|2008-04-18|    BB McCullum|M Chinnaswamy Sta...|            0|Royal Challengers...|Kolkata Knight Ri...|Royal Challengers...|        field|Kolkata Knight Ri...|   runs|          140|         N|    NA|Asad Rauf|   RE Koertzen|\n",
      "|335983|Chandigarh|2008-04-19|     MEK Hussey|Punjab Cricket As...|            0|     Kings XI Punjab| Chennai Super Kings| Chennai Super Kings|          bat| Chennai Super Kings|   runs|           33|         N|    NA|MR Benson|    SL Shastri|\n",
      "|335984|     Delhi|2008-04-19|    MF Maharoof|    Feroz Shah Kotla|            0|    Delhi Daredevils|    Rajasthan Royals|    Rajasthan Royals|          bat|    Delhi Daredevils|wickets|            9|         N|    NA|Aleem Dar|GA Pratapkumar|\n",
      "|335985|    Mumbai|2008-04-20|     MV Boucher|    Wankhede Stadium|            0|      Mumbai Indians|Royal Challengers...|      Mumbai Indians|          bat|Royal Challengers...|wickets|            5|         N|    NA| SJ Davis|     DJ Harper|\n",
      "|335986|   Kolkata|2008-04-20|      DJ Hussey|        Eden Gardens|            0|Kolkata Knight Ri...|     Deccan Chargers|     Deccan Chargers|          bat|Kolkata Knight Ri...|wickets|            5|         N|    NA|BF Bowden|   K Hariharan|\n",
      "+------+----------+----------+---------------+--------------------+-------------+--------------------+--------------------+--------------------+-------------+--------------------+-------+-------------+----------+------+---------+--------------+\n",
      "only showing top 5 rows\n",
      "\n"
     ]
    }
   ],
   "metadata": {}
  },
  {
   "cell_type": "markdown",
   "source": [
    "# ANALYSING TOTAL MATCHES WON BY EACH TEAM"
   ],
   "metadata": {}
  },
  {
   "cell_type": "code",
   "execution_count": 6,
   "source": [
    "most_winners=spark.sql(\"select winner,count('') as total_wins from ipl_view group by winner\")"
   ],
   "outputs": [],
   "metadata": {}
  },
  {
   "cell_type": "code",
   "execution_count": 7,
   "source": [
    "most_winners.sort(desc('total_wins')).show()"
   ],
   "outputs": [
    {
     "output_type": "stream",
     "name": "stderr",
     "text": []
    },
    {
     "output_type": "stream",
     "name": "stdout",
     "text": [
      "+--------------------+----------+\n",
      "|              winner|total_wins|\n",
      "+--------------------+----------+\n",
      "|      Mumbai Indians|       120|\n",
      "| Chennai Super Kings|       106|\n",
      "|Kolkata Knight Ri...|        99|\n",
      "|Royal Challengers...|        91|\n",
      "|     Kings XI Punjab|        88|\n",
      "|    Rajasthan Royals|        81|\n",
      "|    Delhi Daredevils|        67|\n",
      "| Sunrisers Hyderabad|        66|\n",
      "|     Deccan Chargers|        29|\n",
      "|      Delhi Capitals|        19|\n",
      "|       Gujarat Lions|        13|\n",
      "|       Pune Warriors|        12|\n",
      "|Rising Pune Super...|        10|\n",
      "|Kochi Tuskers Kerala|         6|\n",
      "|Rising Pune Super...|         5|\n",
      "|                  NA|         4|\n",
      "+--------------------+----------+\n",
      "\n"
     ]
    }
   ],
   "metadata": {}
  },
  {
   "cell_type": "markdown",
   "source": [
    "# Visualizing the wins my each team with matplotlib pie chart"
   ],
   "metadata": {}
  },
  {
   "cell_type": "code",
   "execution_count": 8,
   "source": [
    "win_df=most_winners.toPandas()"
   ],
   "outputs": [
    {
     "output_type": "stream",
     "name": "stderr",
     "text": []
    }
   ],
   "metadata": {}
  },
  {
   "cell_type": "code",
   "execution_count": 9,
   "source": [
    "team_names=win_df['winner']\n",
    "total_win=win_df['total_wins']"
   ],
   "outputs": [],
   "metadata": {}
  },
  {
   "cell_type": "code",
   "execution_count": 10,
   "source": [
    "fig,ax=plt.subplots(figsize=(10,8))\n",
    "fig.set_facecolor('lightgrey')\n",
    "plt.pie(total_win, labels=team_names,\n",
    "autopct='%1.1f%%', shadow=True)\n",
    "plt.title(\"WINNING TEAM PERCENT\")\n",
    "plt.legend()\n",
    "plt.tight_layout()\n",
    "plt.show()"
   ],
   "outputs": [
    {
     "output_type": "display_data",
     "data": {
      "text/plain": [
       "<Figure size 720x576 with 1 Axes>"
      ],
      "image/png": "[encoded data removed]"
     },
     "metadata": {}
    }
   ],
   "metadata": {}
  },
  {
   "cell_type": "markdown",
   "source": [
    "# FINDING CITY WHICH HOSTED MOST MATCHES"
   ],
   "metadata": {}
  },
  {
   "cell_type": "code",
   "execution_count": 11,
   "source": [
    "city_hosted = spark.sql(\"select city, count('') as matches_hosted from ipl_view group by city\")\n",
    "city_hosted.sort(desc('matches_hosted')).show()"
   ],
   "outputs": [
    {
     "output_type": "stream",
     "name": "stderr",
     "text": []
    },
    {
     "output_type": "stream",
     "name": "stdout",
     "text": [
      "+-------------+--------------+\n",
      "|         city|matches_hosted|\n",
      "+-------------+--------------+\n",
      "|       Mumbai|           101|\n",
      "|      Kolkata|            77|\n",
      "|        Delhi|            74|\n",
      "|    Bangalore|            65|\n",
      "|    Hyderabad|            64|\n",
      "|      Chennai|            57|\n",
      "|   Chandigarh|            56|\n",
      "|       Jaipur|            47|\n",
      "|         Pune|            38|\n",
      "|    Abu Dhabi|            29|\n",
      "|        Dubai|            26|\n",
      "|    Bengaluru|            15|\n",
      "|       Durban|            15|\n",
      "|Visakhapatnam|            13|\n",
      "|           NA|            13|\n",
      "|    Ahmedabad|            12|\n",
      "|    Centurion|            12|\n",
      "|      Sharjah|            12|\n",
      "|       Rajkot|            10|\n",
      "|       Indore|             9|\n",
      "+-------------+--------------+\n",
      "only showing top 20 rows\n",
      "\n"
     ]
    },
    {
     "output_type": "stream",
     "name": "stderr",
     "text": []
    }
   ],
   "metadata": {}
  },
  {
   "cell_type": "markdown",
   "source": [
    "# PLAYERS WITH MOST MOM AWARDS"
   ],
   "metadata": {}
  },
  {
   "cell_type": "code",
   "execution_count": 12,
   "source": [
    "most_mom = spark.sql(\"select player_of_match,count('') as total_mom from ipl_view group by player_of_match\")\n",
    "most_mom.sort(desc('total_mom')).show()"
   ],
   "outputs": [
    {
     "output_type": "stream",
     "name": "stderr",
     "text": []
    },
    {
     "output_type": "stream",
     "name": "stdout",
     "text": [
      "+---------------+---------+\n",
      "|player_of_match|total_mom|\n",
      "+---------------+---------+\n",
      "| AB de Villiers|       23|\n",
      "|       CH Gayle|       22|\n",
      "|      RG Sharma|       18|\n",
      "|      DA Warner|       17|\n",
      "|       MS Dhoni|       17|\n",
      "|      YK Pathan|       16|\n",
      "|      SR Watson|       16|\n",
      "|       SK Raina|       14|\n",
      "|        V Kohli|       13|\n",
      "|      G Gambhir|       13|\n",
      "|     MEK Hussey|       12|\n",
      "|      AM Rahane|       12|\n",
      "|     AD Russell|       11|\n",
      "|       DR Smith|       11|\n",
      "|       A Mishra|       11|\n",
      "|       V Sehwag|       11|\n",
      "|     KA Pollard|       11|\n",
      "|      JH Kallis|       10|\n",
      "|      AT Rayudu|       10|\n",
      "|      RA Jadeja|        9|\n",
      "+---------------+---------+\n",
      "only showing top 20 rows\n",
      "\n"
     ]
    },
    {
     "output_type": "stream",
     "name": "stderr",
     "text": []
    }
   ],
   "metadata": {}
  },
  {
   "cell_type": "markdown",
   "source": [
    "# TOSS WIN MATCH WIN"
   ],
   "metadata": {}
  },
  {
   "cell_type": "code",
   "execution_count": 13,
   "source": [
    "toss_match_win = spark.sql(\"select toss_winner, count('') as win from ipl_view where toss_winner==winner group by toss_winner\")\n",
    "toss_match_win.sort(desc('win')).show()"
   ],
   "outputs": [
    {
     "output_type": "stream",
     "name": "stderr",
     "text": []
    },
    {
     "output_type": "stream",
     "name": "stdout",
     "text": [
      "+--------------------+---+\n",
      "|         toss_winner|win|\n",
      "+--------------------+---+\n",
      "| Chennai Super Kings| 61|\n",
      "|      Mumbai Indians| 61|\n",
      "|Kolkata Knight Ri...| 55|\n",
      "|    Rajasthan Royals| 44|\n",
      "|Royal Challengers...| 43|\n",
      "|     Kings XI Punjab| 36|\n",
      "|    Delhi Daredevils| 35|\n",
      "| Sunrisers Hyderabad| 29|\n",
      "|     Deccan Chargers| 19|\n",
      "|       Gujarat Lions| 10|\n",
      "|      Delhi Capitals| 10|\n",
      "|Rising Pune Super...|  5|\n",
      "|Kochi Tuskers Kerala|  4|\n",
      "|Rising Pune Super...|  3|\n",
      "|       Pune Warriors|  3|\n",
      "+--------------------+---+\n",
      "\n"
     ]
    },
    {
     "output_type": "stream",
     "name": "stderr",
     "text": []
    }
   ],
   "metadata": {}
  },
  {
   "cell_type": "markdown",
   "source": [
    "# TOSS WIN MATCH LOSE"
   ],
   "metadata": {}
  },
  {
   "cell_type": "code",
   "execution_count": 14,
   "source": [
    "toss_win_match_lose = spark.sql(\"select toss_winner, count('')  as loss from ipl_view where toss_winner!=winner group by toss_winner\")\n",
    "toss_win_match_lose.sort(desc('loss')).show()"
   ],
   "outputs": [
    {
     "output_type": "stream",
     "name": "stderr",
     "text": []
    },
    {
     "output_type": "stream",
     "name": "stdout",
     "text": [
      "+--------------------+----+\n",
      "|         toss_winner|loss|\n",
      "+--------------------+----+\n",
      "|     Kings XI Punjab|  49|\n",
      "|    Delhi Daredevils|  45|\n",
      "|      Mumbai Indians|  45|\n",
      "|Royal Challengers...|  44|\n",
      "|Kolkata Knight Ri...|  43|\n",
      "|    Rajasthan Royals|  43|\n",
      "| Chennai Super Kings|  36|\n",
      "| Sunrisers Hyderabad|  28|\n",
      "|     Deccan Chargers|  24|\n",
      "|       Pune Warriors|  17|\n",
      "|      Delhi Capitals|  10|\n",
      "|       Gujarat Lions|   5|\n",
      "|Kochi Tuskers Kerala|   4|\n",
      "|Rising Pune Super...|   4|\n",
      "|Rising Pune Super...|   1|\n",
      "+--------------------+----+\n",
      "\n"
     ]
    },
    {
     "output_type": "stream",
     "name": "stderr",
     "text": []
    }
   ],
   "metadata": {}
  },
  {
   "cell_type": "markdown",
   "source": [
    "# TOSS LOSE MATCH WIN"
   ],
   "metadata": {}
  },
  {
   "cell_type": "code",
   "execution_count": 15,
   "source": [
    "toss_lose_match_win = spark.sql(\"select winner, count('') as win from ipl_view where winner!=toss_winner group by winner\")\n",
    "toss_lose_match_win.sort(desc('win')).show()"
   ],
   "outputs": [
    {
     "output_type": "stream",
     "name": "stderr",
     "text": []
    },
    {
     "output_type": "stream",
     "name": "stdout",
     "text": [
      "+--------------------+---+\n",
      "|              winner|win|\n",
      "+--------------------+---+\n",
      "|      Mumbai Indians| 59|\n",
      "|     Kings XI Punjab| 52|\n",
      "|Royal Challengers...| 48|\n",
      "| Chennai Super Kings| 45|\n",
      "|Kolkata Knight Ri...| 44|\n",
      "| Sunrisers Hyderabad| 37|\n",
      "|    Rajasthan Royals| 37|\n",
      "|    Delhi Daredevils| 32|\n",
      "|     Deccan Chargers| 10|\n",
      "|       Pune Warriors|  9|\n",
      "|      Delhi Capitals|  9|\n",
      "|Rising Pune Super...|  5|\n",
      "|                  NA|  4|\n",
      "|       Gujarat Lions|  3|\n",
      "|Kochi Tuskers Kerala|  2|\n",
      "|Rising Pune Super...|  2|\n",
      "+--------------------+---+\n",
      "\n"
     ]
    },
    {
     "output_type": "stream",
     "name": "stderr",
     "text": []
    }
   ],
   "metadata": {}
  },
  {
   "cell_type": "markdown",
   "source": [
    "# TOTAL HOME MATCHES PLAYED BY EACH TEAM"
   ],
   "metadata": {}
  },
  {
   "cell_type": "code",
   "execution_count": 16,
   "source": [
    "total_games=spark.sql(\"select team1,count('') as total_matches from ipl_view group by team1\")\n",
    "total_games.sort(desc('total_matches')).show()"
   ],
   "outputs": [
    {
     "output_type": "stream",
     "name": "stderr",
     "text": []
    },
    {
     "output_type": "stream",
     "name": "stdout",
     "text": [
      "+--------------------+-------------+\n",
      "|               team1|total_matches|\n",
      "+--------------------+-------------+\n",
      "|Royal Challengers...|          108|\n",
      "|      Mumbai Indians|           97|\n",
      "|Kolkata Knight Ri...|           95|\n",
      "| Chennai Super Kings|           94|\n",
      "|     Kings XI Punjab|           92|\n",
      "|    Delhi Daredevils|           83|\n",
      "|    Rajasthan Royals|           70|\n",
      "| Sunrisers Hyderabad|           59|\n",
      "|     Deccan Chargers|           39|\n",
      "|       Pune Warriors|           23|\n",
      "|      Delhi Capitals|           19|\n",
      "|       Gujarat Lions|           16|\n",
      "|Rising Pune Super...|            7|\n",
      "|Kochi Tuskers Kerala|            7|\n",
      "|Rising Pune Super...|            7|\n",
      "+--------------------+-------------+\n",
      "\n"
     ]
    },
    {
     "output_type": "stream",
     "name": "stderr",
     "text": []
    }
   ],
   "metadata": {}
  },
  {
   "cell_type": "markdown",
   "source": [
    "# *BALL BY BALL ANALYSIS*"
   ],
   "metadata": {}
  },
  {
   "cell_type": "code",
   "execution_count": 17,
   "source": [
    "ball_df = spark.read.csv(\"hdfs://localhost:9000/Sample/ipl_balls.csv\",header=True)\n",
    "ball_df.createOrReplaceTempView(\"ipl_ball\")"
   ],
   "outputs": [
    {
     "output_type": "stream",
     "name": "stderr",
     "text": []
    }
   ],
   "metadata": {}
  },
  {
   "cell_type": "code",
   "execution_count": 18,
   "source": [
    "ball_df.show()"
   ],
   "outputs": [
    {
     "output_type": "stream",
     "name": "stdout",
     "text": [
      "+------+------+----+----+-----------+-----------+---------+------------+----------+----------+------------+---------+--------------+----------------+-------+-----------+--------------------+--------------------+\n",
      "|    id|inning|over|ball|    batsman|non_striker|   bowler|batsman_runs|extra_runs|total_runs|non_boundary|is_wicket|dismissal_kind|player_dismissed|fielder|extras_type|        batting_team|        bowling_team|\n",
      "+------+------+----+----+-----------+-----------+---------+------------+----------+----------+------------+---------+--------------+----------------+-------+-----------+--------------------+--------------------+\n",
      "|335982|     1|   6|   5| RT Ponting|BB McCullum|AA Noffke|           1|         0|         1|           0|        0|            NA|              NA|     NA|         NA|Kolkata Knight Ri...|Royal Challengers...|\n",
      "|335982|     1|   6|   6|BB McCullum| RT Ponting|AA Noffke|           1|         0|         1|           0|        0|            NA|              NA|     NA|         NA|Kolkata Knight Ri...|Royal Challengers...|\n",
      "|335982|     1|   7|   1|BB McCullum| RT Ponting|   Z Khan|           0|         0|         0|           0|        0|            NA|              NA|     NA|         NA|Kolkata Knight Ri...|Royal Challengers...|\n",
      "|335982|     1|   7|   2|BB McCullum| RT Ponting|   Z Khan|           1|         0|         1|           0|        0|            NA|              NA|     NA|         NA|Kolkata Knight Ri...|Royal Challengers...|\n",
      "|335982|     1|   7|   3| RT Ponting|BB McCullum|   Z Khan|           1|         0|         1|           0|        0|            NA|              NA|     NA|         NA|Kolkata Knight Ri...|Royal Challengers...|\n",
      "|335982|     1|   7|   4|BB McCullum| RT Ponting|   Z Khan|           1|         0|         1|           0|        0|            NA|              NA|     NA|         NA|Kolkata Knight Ri...|Royal Challengers...|\n",
      "|335982|     1|   7|   5| RT Ponting|BB McCullum|   Z Khan|           1|         0|         1|           0|        0|            NA|              NA|     NA|         NA|Kolkata Knight Ri...|Royal Challengers...|\n",
      "|335982|     1|   7|   6|BB McCullum| RT Ponting|   Z Khan|           1|         0|         1|           0|        0|            NA|              NA|     NA|         NA|Kolkata Knight Ri...|Royal Challengers...|\n",
      "|335982|     1|   8|   1|BB McCullum| RT Ponting|JH Kallis|           0|         0|         0|           0|        0|            NA|              NA|     NA|         NA|Kolkata Knight Ri...|Royal Challengers...|\n",
      "|335982|     1|   8|   2|BB McCullum| RT Ponting|JH Kallis|           0|         0|         0|           0|        0|            NA|              NA|     NA|         NA|Kolkata Knight Ri...|Royal Challengers...|\n",
      "|335982|     1|   8|   3|BB McCullum| RT Ponting|JH Kallis|           0|         0|         0|           0|        0|            NA|              NA|     NA|         NA|Kolkata Knight Ri...|Royal Challengers...|\n",
      "|335982|     1|   8|   4|BB McCullum| RT Ponting|JH Kallis|           1|         0|         1|           0|        0|            NA|              NA|     NA|         NA|Kolkata Knight Ri...|Royal Challengers...|\n",
      "|335982|     1|   8|   5| RT Ponting|BB McCullum|JH Kallis|           1|         0|         1|           0|        0|            NA|              NA|     NA|         NA|Kolkata Knight Ri...|Royal Challengers...|\n",
      "|335982|     1|   8|   6|BB McCullum| RT Ponting|JH Kallis|           2|         0|         2|           0|        0|            NA|              NA|     NA|         NA|Kolkata Knight Ri...|Royal Challengers...|\n",
      "|335982|     1|   9|   1| RT Ponting|BB McCullum| SB Joshi|           1|         0|         1|           0|        0|            NA|              NA|     NA|         NA|Kolkata Knight Ri...|Royal Challengers...|\n",
      "|335982|     1|   9|   2|BB McCullum| RT Ponting| SB Joshi|           1|         0|         1|           0|        0|            NA|              NA|     NA|         NA|Kolkata Knight Ri...|Royal Challengers...|\n",
      "|335982|     1|   9|   3| RT Ponting|BB McCullum| SB Joshi|           1|         0|         1|           0|        0|            NA|              NA|     NA|         NA|Kolkata Knight Ri...|Royal Challengers...|\n",
      "|335982|     1|   9|   4|BB McCullum| RT Ponting| SB Joshi|           0|         0|         0|           0|        0|            NA|              NA|     NA|         NA|Kolkata Knight Ri...|Royal Challengers...|\n",
      "|335982|     1|   9|   5|BB McCullum| RT Ponting| SB Joshi|           6|         0|         6|           0|        0|            NA|              NA|     NA|         NA|Kolkata Knight Ri...|Royal Challengers...|\n",
      "|335982|     1|   9|   6|BB McCullum| RT Ponting| SB Joshi|           1|         0|         1|           0|        0|            NA|              NA|     NA|         NA|Kolkata Knight Ri...|Royal Challengers...|\n",
      "+------+------+----+----+-----------+-----------+---------+------------+----------+----------+------------+---------+--------------+----------------+-------+-----------+--------------------+--------------------+\n",
      "only showing top 20 rows\n",
      "\n"
     ]
    }
   ],
   "metadata": {}
  },
  {
   "cell_type": "code",
   "execution_count": 19,
   "source": [
    "ball_df.printSchema()"
   ],
   "outputs": [
    {
     "output_type": "stream",
     "name": "stdout",
     "text": [
      "root\n",
      " |-- id: string (nullable = true)\n",
      " |-- inning: string (nullable = true)\n",
      " |-- over: string (nullable = true)\n",
      " |-- ball: string (nullable = true)\n",
      " |-- batsman: string (nullable = true)\n",
      " |-- non_striker: string (nullable = true)\n",
      " |-- bowler: string (nullable = true)\n",
      " |-- batsman_runs: string (nullable = true)\n",
      " |-- extra_runs: string (nullable = true)\n",
      " |-- total_runs: string (nullable = true)\n",
      " |-- non_boundary: string (nullable = true)\n",
      " |-- is_wicket: string (nullable = true)\n",
      " |-- dismissal_kind: string (nullable = true)\n",
      " |-- player_dismissed: string (nullable = true)\n",
      " |-- fielder: string (nullable = true)\n",
      " |-- extras_type: string (nullable = true)\n",
      " |-- batting_team: string (nullable = true)\n",
      " |-- bowling_team: string (nullable = true)\n",
      "\n"
     ]
    }
   ],
   "metadata": {}
  },
  {
   "cell_type": "markdown",
   "source": [
    "# Converting type of column from string to integer type"
   ],
   "metadata": {}
  },
  {
   "cell_type": "code",
   "execution_count": 20,
   "source": [
    "df2 = ball_df.withColumn(\"batsman_runs\",col(\"batsman_runs\").cast(\"int\"))\n",
    "df2"
   ],
   "outputs": [
    {
     "output_type": "execute_result",
     "data": {
      "text/plain": [
       "DataFrame[id: string, inning: string, over: string, ball: string, batsman: string, non_striker: string, bowler: string, batsman_runs: int, extra_runs: string, total_runs: string, non_boundary: string, is_wicket: string, dismissal_kind: string, player_dismissed: string, fielder: string, extras_type: string, batting_team: string, bowling_team: string]"
      ]
     },
     "metadata": {},
     "execution_count": 20
    }
   ],
   "metadata": {}
  },
  {
   "cell_type": "code",
   "execution_count": 21,
   "source": [
    "bat_run=df2.toPandas()"
   ],
   "outputs": [
    {
     "output_type": "stream",
     "name": "stderr",
     "text": []
    }
   ],
   "metadata": {}
  },
  {
   "cell_type": "markdown",
   "source": [
    "# TOTAL RUNS BY EACH BATSMAN"
   ],
   "metadata": {}
  },
  {
   "cell_type": "code",
   "execution_count": 22,
   "source": [
    "runs=bat_run.groupby([\"batsman\"])[\"batsman_runs\"].sum()\n",
    "runs"
   ],
   "outputs": [
    {
     "output_type": "execute_result",
     "data": {
      "text/plain": [
       "batsman\n",
       "A Ashish Reddy     280\n",
       "A Chandila           4\n",
       "A Chopra            53\n",
       "A Choudhary         25\n",
       "A Dananjaya          4\n",
       "                  ... \n",
       "YV Takawale        192\n",
       "Yashpal Singh       47\n",
       "Younis Khan          3\n",
       "Yuvraj Singh      2750\n",
       "Z Khan             117\n",
       "Name: batsman_runs, Length: 537, dtype: int32"
      ]
     },
     "metadata": {},
     "execution_count": 22
    }
   ],
   "metadata": {}
  },
  {
   "cell_type": "code",
   "execution_count": 23,
   "source": [
    "top_ten_bats=runs.sort_values(ascending=False).head(10)\n",
    "top_ten_bats"
   ],
   "outputs": [
    {
     "output_type": "execute_result",
     "data": {
      "text/plain": [
       "batsman\n",
       "V Kohli           5878\n",
       "SK Raina          5368\n",
       "DA Warner         5254\n",
       "RG Sharma         5230\n",
       "S Dhawan          5197\n",
       "AB de Villiers    4849\n",
       "CH Gayle          4772\n",
       "MS Dhoni          4632\n",
       "RV Uthappa        4607\n",
       "G Gambhir         4217\n",
       "Name: batsman_runs, dtype: int32"
      ]
     },
     "metadata": {},
     "execution_count": 23
    }
   ],
   "metadata": {}
  },
  {
   "cell_type": "code",
   "execution_count": 24,
   "source": [
    "run_df=pd.DataFrame(top_ten_bats)"
   ],
   "outputs": [],
   "metadata": {}
  },
  {
   "cell_type": "code",
   "execution_count": 25,
   "source": [
    "run_df"
   ],
   "outputs": [
    {
     "output_type": "execute_result",
     "data": {
      "text/plain": [
       "                batsman_runs\n",
       "batsman                     \n",
       "V Kohli                 5878\n",
       "SK Raina                5368\n",
       "DA Warner               5254\n",
       "RG Sharma               5230\n",
       "S Dhawan                5197\n",
       "AB de Villiers          4849\n",
       "CH Gayle                4772\n",
       "MS Dhoni                4632\n",
       "RV Uthappa              4607\n",
       "G Gambhir               4217"
      ],
      "text/html": [
       "<div>\n",
       "<style scoped>\n",
       "    .dataframe tbody tr th:only-of-type {\n",
       "        vertical-align: middle;\n",
       "    }\n",
       "\n",
       "    .dataframe tbody tr th {\n",
       "        vertical-align: top;\n",
       "    }\n",
       "\n",
       "    .dataframe thead th {\n",
       "        text-align: right;\n",
       "    }\n",
       "</style>\n",
       "<table border=\"1\" class=\"dataframe\">\n",
       "  <thead>\n",
       "    <tr style=\"text-align: right;\">\n",
       "      <th></th>\n",
       "      <th>batsman_runs</th>\n",
       "    </tr>\n",
       "    <tr>\n",
       "      <th>batsman</th>\n",
       "      <th></th>\n",
       "    </tr>\n",
       "  </thead>\n",
       "  <tbody>\n",
       "    <tr>\n",
       "      <th>V Kohli</th>\n",
       "      <td>5878</td>\n",
       "    </tr>\n",
       "    <tr>\n",
       "      <th>SK Raina</th>\n",
       "      <td>5368</td>\n",
       "    </tr>\n",
       "    <tr>\n",
       "      <th>DA Warner</th>\n",
       "      <td>5254</td>\n",
       "    </tr>\n",
       "    <tr>\n",
       "      <th>RG Sharma</th>\n",
       "      <td>5230</td>\n",
       "    </tr>\n",
       "    <tr>\n",
       "      <th>S Dhawan</th>\n",
       "      <td>5197</td>\n",
       "    </tr>\n",
       "    <tr>\n",
       "      <th>AB de Villiers</th>\n",
       "      <td>4849</td>\n",
       "    </tr>\n",
       "    <tr>\n",
       "      <th>CH Gayle</th>\n",
       "      <td>4772</td>\n",
       "    </tr>\n",
       "    <tr>\n",
       "      <th>MS Dhoni</th>\n",
       "      <td>4632</td>\n",
       "    </tr>\n",
       "    <tr>\n",
       "      <th>RV Uthappa</th>\n",
       "      <td>4607</td>\n",
       "    </tr>\n",
       "    <tr>\n",
       "      <th>G Gambhir</th>\n",
       "      <td>4217</td>\n",
       "    </tr>\n",
       "  </tbody>\n",
       "</table>\n",
       "</div>"
      ]
     },
     "metadata": {},
     "execution_count": 25
    }
   ],
   "metadata": {}
  },
  {
   "cell_type": "markdown",
   "source": [
    "# Bar chart for top ten run scorers in ipl"
   ],
   "metadata": {}
  },
  {
   "cell_type": "code",
   "execution_count": 26,
   "source": [
    "c=['red','blue','black','yellow','green','purple','cyan','black','yellow','orange']\n",
    "plt.bar(x=run_df.index,height=run_df['batsman_runs'],color=c)\n",
    "plt.xticks(rotation=90)\n",
    "plt.show()"
   ],
   "outputs": [
    {
     "output_type": "display_data",
     "data": {
      "text/plain": [
       "<Figure size 432x288 with 1 Axes>"
      ],
      "image/png": "[encoded data removed]"
     },
     "metadata": {
      "needs_background": "light"
     }
    }
   ],
   "metadata": {}
  },
  {
   "cell_type": "markdown",
   "source": [
    "# FOR ANIMATED GRAPH OF TOP RUNSCORERS"
   ],
   "metadata": {}
  },
  {
   "cell_type": "markdown",
   "source": [
    "## Loading dataset from csv file from local to pandas datframe"
   ],
   "metadata": {}
  },
  {
   "cell_type": "code",
   "execution_count": 27,
   "source": [
    "bcrbatsmen = pd.read_csv('/home/ubuntu/Downloads/iplbatsmen.csv', index_col = 'PLAYER')"
   ],
   "outputs": [],
   "metadata": {}
  },
  {
   "cell_type": "markdown",
   "source": [
    "# Using cumsum() to add the runs after each season"
   ],
   "metadata": {}
  },
  {
   "cell_type": "code",
   "execution_count": 28,
   "source": [
    "bcrbatsmen = bcrbatsmen.cumsum(axis=1).sort_values(by='2019', ascending = False)\n",
    "bcrbatsmen"
   ],
   "outputs": [
    {
     "output_type": "execute_result",
     "data": {
      "text/plain": [
       "                  2008  2009  2010  2011  2012  2013  2014  2015  2016  2017  \\\n",
       "PLAYER                                                                         \n",
       "Virat  Kohli       165   411   718  1275  1639  2273  2632  3137  4110  4418   \n",
       "Suresh  Raina      421   855  1375  1813  2254  2802  3325  3699  4098  4540   \n",
       "Rohit  Sharma      404   766  1170  1542  1975  2513  2903  3385  3874  4207   \n",
       "David  Warner        0   163   445   769  1025  1435  1963  2525  3373  4014   \n",
       "Shikhar  Dhawan    340   380   571   971  1540  1851  2228  2581  3082  3561   \n",
       "...                ...   ...   ...   ...   ...   ...   ...   ...   ...   ...   \n",
       "Rohan  Raje          0    12    12    12    12    12    12    12    12    12   \n",
       "Karanveer  Singh     0     0     0     0     0     0     0    11    11    11   \n",
       "Tyron  Henderson     0    11    11    11    11    11    11    11    11    11   \n",
       "Abu  Nechim          0     0     0     0     0     0     0    10    10    10   \n",
       "Imran  Tahir         0     0     0     0     0     0     8     8     8     8   \n",
       "\n",
       "                  2018  2019  \n",
       "PLAYER                        \n",
       "Virat  Kohli      4948  5412  \n",
       "Suresh  Raina     4985  5368  \n",
       "Rohit  Sharma     4493  4898  \n",
       "David  Warner     4014  4706  \n",
       "Shikhar  Dhawan   4058  4579  \n",
       "...                ...   ...  \n",
       "Rohan  Raje         12    12  \n",
       "Karanveer  Singh    11    11  \n",
       "Tyron  Henderson    11    11  \n",
       "Abu  Nechim         10    10  \n",
       "Imran  Tahir         8     8  \n",
       "\n",
       "[356 rows x 12 columns]"
      ],
      "text/html": [
       "<div>\n",
       "<style scoped>\n",
       "    .dataframe tbody tr th:only-of-type {\n",
       "        vertical-align: middle;\n",
       "    }\n",
       "\n",
       "    .dataframe tbody tr th {\n",
       "        vertical-align: top;\n",
       "    }\n",
       "\n",
       "    .dataframe thead th {\n",
       "        text-align: right;\n",
       "    }\n",
       "</style>\n",
       "<table border=\"1\" class=\"dataframe\">\n",
       "  <thead>\n",
       "    <tr style=\"text-align: right;\">\n",
       "      <th></th>\n",
       "      <th>2008</th>\n",
       "      <th>2009</th>\n",
       "      <th>2010</th>\n",
       "      <th>2011</th>\n",
       "      <th>2012</th>\n",
       "      <th>2013</th>\n",
       "      <th>2014</th>\n",
       "      <th>2015</th>\n",
       "      <th>2016</th>\n",
       "      <th>2017</th>\n",
       "      <th>2018</th>\n",
       "      <th>2019</th>\n",
       "    </tr>\n",
       "    <tr>\n",
       "      <th>PLAYER</th>\n",
       "      <th></th>\n",
       "      <th></th>\n",
       "      <th></th>\n",
       "      <th></th>\n",
       "      <th></th>\n",
       "      <th></th>\n",
       "      <th></th>\n",
       "      <th></th>\n",
       "      <th></th>\n",
       "      <th></th>\n",
       "      <th></th>\n",
       "      <th></th>\n",
       "    </tr>\n",
       "  </thead>\n",
       "  <tbody>\n",
       "    <tr>\n",
       "      <th>Virat  Kohli</th>\n",
       "      <td>165</td>\n",
       "      <td>411</td>\n",
       "      <td>718</td>\n",
       "      <td>1275</td>\n",
       "      <td>1639</td>\n",
       "      <td>2273</td>\n",
       "      <td>2632</td>\n",
       "      <td>3137</td>\n",
       "      <td>4110</td>\n",
       "      <td>4418</td>\n",
       "      <td>4948</td>\n",
       "      <td>5412</td>\n",
       "    </tr>\n",
       "    <tr>\n",
       "      <th>Suresh  Raina</th>\n",
       "      <td>421</td>\n",
       "      <td>855</td>\n",
       "      <td>1375</td>\n",
       "      <td>1813</td>\n",
       "      <td>2254</td>\n",
       "      <td>2802</td>\n",
       "      <td>3325</td>\n",
       "      <td>3699</td>\n",
       "      <td>4098</td>\n",
       "      <td>4540</td>\n",
       "      <td>4985</td>\n",
       "      <td>5368</td>\n",
       "    </tr>\n",
       "    <tr>\n",
       "      <th>Rohit  Sharma</th>\n",
       "      <td>404</td>\n",
       "      <td>766</td>\n",
       "      <td>1170</td>\n",
       "      <td>1542</td>\n",
       "      <td>1975</td>\n",
       "      <td>2513</td>\n",
       "      <td>2903</td>\n",
       "      <td>3385</td>\n",
       "      <td>3874</td>\n",
       "      <td>4207</td>\n",
       "      <td>4493</td>\n",
       "      <td>4898</td>\n",
       "    </tr>\n",
       "    <tr>\n",
       "      <th>David  Warner</th>\n",
       "      <td>0</td>\n",
       "      <td>163</td>\n",
       "      <td>445</td>\n",
       "      <td>769</td>\n",
       "      <td>1025</td>\n",
       "      <td>1435</td>\n",
       "      <td>1963</td>\n",
       "      <td>2525</td>\n",
       "      <td>3373</td>\n",
       "      <td>4014</td>\n",
       "      <td>4014</td>\n",
       "      <td>4706</td>\n",
       "    </tr>\n",
       "    <tr>\n",
       "      <th>Shikhar  Dhawan</th>\n",
       "      <td>340</td>\n",
       "      <td>380</td>\n",
       "      <td>571</td>\n",
       "      <td>971</td>\n",
       "      <td>1540</td>\n",
       "      <td>1851</td>\n",
       "      <td>2228</td>\n",
       "      <td>2581</td>\n",
       "      <td>3082</td>\n",
       "      <td>3561</td>\n",
       "      <td>4058</td>\n",
       "      <td>4579</td>\n",
       "    </tr>\n",
       "    <tr>\n",
       "      <th>...</th>\n",
       "      <td>...</td>\n",
       "      <td>...</td>\n",
       "      <td>...</td>\n",
       "      <td>...</td>\n",
       "      <td>...</td>\n",
       "      <td>...</td>\n",
       "      <td>...</td>\n",
       "      <td>...</td>\n",
       "      <td>...</td>\n",
       "      <td>...</td>\n",
       "      <td>...</td>\n",
       "      <td>...</td>\n",
       "    </tr>\n",
       "    <tr>\n",
       "      <th>Rohan  Raje</th>\n",
       "      <td>0</td>\n",
       "      <td>12</td>\n",
       "      <td>12</td>\n",
       "      <td>12</td>\n",
       "      <td>12</td>\n",
       "      <td>12</td>\n",
       "      <td>12</td>\n",
       "      <td>12</td>\n",
       "      <td>12</td>\n",
       "      <td>12</td>\n",
       "      <td>12</td>\n",
       "      <td>12</td>\n",
       "    </tr>\n",
       "    <tr>\n",
       "      <th>Karanveer  Singh</th>\n",
       "      <td>0</td>\n",
       "      <td>0</td>\n",
       "      <td>0</td>\n",
       "      <td>0</td>\n",
       "      <td>0</td>\n",
       "      <td>0</td>\n",
       "      <td>0</td>\n",
       "      <td>11</td>\n",
       "      <td>11</td>\n",
       "      <td>11</td>\n",
       "      <td>11</td>\n",
       "      <td>11</td>\n",
       "    </tr>\n",
       "    <tr>\n",
       "      <th>Tyron  Henderson</th>\n",
       "      <td>0</td>\n",
       "      <td>11</td>\n",
       "      <td>11</td>\n",
       "      <td>11</td>\n",
       "      <td>11</td>\n",
       "      <td>11</td>\n",
       "      <td>11</td>\n",
       "      <td>11</td>\n",
       "      <td>11</td>\n",
       "      <td>11</td>\n",
       "      <td>11</td>\n",
       "      <td>11</td>\n",
       "    </tr>\n",
       "    <tr>\n",
       "      <th>Abu  Nechim</th>\n",
       "      <td>0</td>\n",
       "      <td>0</td>\n",
       "      <td>0</td>\n",
       "      <td>0</td>\n",
       "      <td>0</td>\n",
       "      <td>0</td>\n",
       "      <td>0</td>\n",
       "      <td>10</td>\n",
       "      <td>10</td>\n",
       "      <td>10</td>\n",
       "      <td>10</td>\n",
       "      <td>10</td>\n",
       "    </tr>\n",
       "    <tr>\n",
       "      <th>Imran  Tahir</th>\n",
       "      <td>0</td>\n",
       "      <td>0</td>\n",
       "      <td>0</td>\n",
       "      <td>0</td>\n",
       "      <td>0</td>\n",
       "      <td>0</td>\n",
       "      <td>8</td>\n",
       "      <td>8</td>\n",
       "      <td>8</td>\n",
       "      <td>8</td>\n",
       "      <td>8</td>\n",
       "      <td>8</td>\n",
       "    </tr>\n",
       "  </tbody>\n",
       "</table>\n",
       "<p>356 rows × 12 columns</p>\n",
       "</div>"
      ]
     },
     "metadata": {},
     "execution_count": 28
    }
   ],
   "metadata": {}
  },
  {
   "cell_type": "markdown",
   "source": [
    "# Taking only top 50 players and trasposing the dataframe"
   ],
   "metadata": {}
  },
  {
   "cell_type": "code",
   "execution_count": 29,
   "source": [
    "bcrbatsmen = bcrbatsmen[:50].T\n",
    "bcrbatsmen"
   ],
   "outputs": [
    {
     "output_type": "execute_result",
     "data": {
      "text/plain": [
       "PLAYER  Virat  Kohli  Suresh  Raina  Rohit  Sharma  David  Warner  \\\n",
       "2008             165            421            404              0   \n",
       "2009             411            855            766            163   \n",
       "2010             718           1375           1170            445   \n",
       "2011            1275           1813           1542            769   \n",
       "2012            1639           2254           1975           1025   \n",
       "2013            2273           2802           2513           1435   \n",
       "2014            2632           3325           2903           1963   \n",
       "2015            3137           3699           3385           2525   \n",
       "2016            4110           4098           3874           3373   \n",
       "2017            4418           4540           4207           4014   \n",
       "2018            4948           4985           4493           4014   \n",
       "2019            5412           5368           4898           4706   \n",
       "\n",
       "PLAYER  Shikhar  Dhawan  Chris  Gayle  MS  Dhoni  Robin  Uthappa  \\\n",
       "2008                340             0        414             320   \n",
       "2009                380           171        746             495   \n",
       "2010                571           463       1033             869   \n",
       "2011                971          1071       1425            1133   \n",
       "2012               1540          1804       1783            1538   \n",
       "2013               1851          2512       2244            1972   \n",
       "2014               2228          2708       2615            2632   \n",
       "2015               2581          3199       2987            2996   \n",
       "2016               3082          3426       3271            3390   \n",
       "2017               3561          3626       3561            3778   \n",
       "2018               4058          3994       4016            4129   \n",
       "2019               4579          4484       4432            4411   \n",
       "\n",
       "PLAYER  AB  de Villiers  Gautam  Gambhir  ...  Manoj  Tiwary  \\\n",
       "2008                 95              534  ...            104   \n",
       "2009                560              820  ...            113   \n",
       "2010                671             1097  ...            350   \n",
       "2011                983             1475  ...            709   \n",
       "2012               1302             2065  ...            969   \n",
       "2013               1662             2471  ...           1115   \n",
       "2014               2057             2806  ...           1267   \n",
       "2015               2570             3133  ...           1324   \n",
       "2016               3257             3634  ...           1324   \n",
       "2017               3473             4132  ...           1648   \n",
       "2018               3953             4217  ...           1695   \n",
       "2019               4395             4217  ...           1695   \n",
       "\n",
       "PLAYER  Kumar  Sangakkara  Shreyas  Iyer  Naman  Ojha  Suryakumar  Yadav  \\\n",
       "2008                  320              0            0                  0   \n",
       "2009                  652              0          168                  0   \n",
       "2010                 1009              0          545                  0   \n",
       "2011                 1367              0          705                  0   \n",
       "2012                 1567              0          960                  0   \n",
       "2013                 1687              0          969                  0   \n",
       "2014                 1687              0         1201                164   \n",
       "2015                 1687            439         1338                321   \n",
       "2016                 1687            469         1474                507   \n",
       "2017                 1687            807         1553                612   \n",
       "2018                 1687           1218         1553               1124   \n",
       "2019                 1687           1681         1554               1548   \n",
       "\n",
       "PLAYER  Mandeep  Singh  Dwayne  Bravo  Karun  Nair  Quinton  de Kock  \\\n",
       "2008                 0            178            0                 0   \n",
       "2009                 0            396            0                 0   \n",
       "2010                 4            457            0                 0   \n",
       "2011                51            468            0                 0   \n",
       "2012               483            839            0                 0   \n",
       "2013               743            960            9                 6   \n",
       "2014               767            968          339               159   \n",
       "2015               924           1163          520               281   \n",
       "2016               924           1262          877               726   \n",
       "2017              1112           1262         1158               726   \n",
       "2018              1364           1403         1459               927   \n",
       "2019              1529           1483         1464              1456   \n",
       "\n",
       "PLAYER  Subramaniam  Badrinath  \n",
       "2008                       192  \n",
       "2009                       369  \n",
       "2010                       725  \n",
       "2011                      1121  \n",
       "2012                      1317  \n",
       "2013                      1441  \n",
       "2014                      1441  \n",
       "2015                      1441  \n",
       "2016                      1441  \n",
       "2017                      1441  \n",
       "2018                      1441  \n",
       "2019                      1441  \n",
       "\n",
       "[12 rows x 50 columns]"
      ],
      "text/html": [
       "<div>\n",
       "<style scoped>\n",
       "    .dataframe tbody tr th:only-of-type {\n",
       "        vertical-align: middle;\n",
       "    }\n",
       "\n",
       "    .dataframe tbody tr th {\n",
       "        vertical-align: top;\n",
       "    }\n",
       "\n",
       "    .dataframe thead th {\n",
       "        text-align: right;\n",
       "    }\n",
       "</style>\n",
       "<table border=\"1\" class=\"dataframe\">\n",
       "  <thead>\n",
       "    <tr style=\"text-align: right;\">\n",
       "      <th>PLAYER</th>\n",
       "      <th>Virat  Kohli</th>\n",
       "      <th>Suresh  Raina</th>\n",
       "      <th>Rohit  Sharma</th>\n",
       "      <th>David  Warner</th>\n",
       "      <th>Shikhar  Dhawan</th>\n",
       "      <th>Chris  Gayle</th>\n",
       "      <th>MS  Dhoni</th>\n",
       "      <th>Robin  Uthappa</th>\n",
       "      <th>AB  de Villiers</th>\n",
       "      <th>Gautam  Gambhir</th>\n",
       "      <th>...</th>\n",
       "      <th>Manoj  Tiwary</th>\n",
       "      <th>Kumar  Sangakkara</th>\n",
       "      <th>Shreyas  Iyer</th>\n",
       "      <th>Naman  Ojha</th>\n",
       "      <th>Suryakumar  Yadav</th>\n",
       "      <th>Mandeep  Singh</th>\n",
       "      <th>Dwayne  Bravo</th>\n",
       "      <th>Karun  Nair</th>\n",
       "      <th>Quinton  de Kock</th>\n",
       "      <th>Subramaniam  Badrinath</th>\n",
       "    </tr>\n",
       "  </thead>\n",
       "  <tbody>\n",
       "    <tr>\n",
       "      <th>2008</th>\n",
       "      <td>165</td>\n",
       "      <td>421</td>\n",
       "      <td>404</td>\n",
       "      <td>0</td>\n",
       "      <td>340</td>\n",
       "      <td>0</td>\n",
       "      <td>414</td>\n",
       "      <td>320</td>\n",
       "      <td>95</td>\n",
       "      <td>534</td>\n",
       "      <td>...</td>\n",
       "      <td>104</td>\n",
       "      <td>320</td>\n",
       "      <td>0</td>\n",
       "      <td>0</td>\n",
       "      <td>0</td>\n",
       "      <td>0</td>\n",
       "      <td>178</td>\n",
       "      <td>0</td>\n",
       "      <td>0</td>\n",
       "      <td>192</td>\n",
       "    </tr>\n",
       "    <tr>\n",
       "      <th>2009</th>\n",
       "      <td>411</td>\n",
       "      <td>855</td>\n",
       "      <td>766</td>\n",
       "      <td>163</td>\n",
       "      <td>380</td>\n",
       "      <td>171</td>\n",
       "      <td>746</td>\n",
       "      <td>495</td>\n",
       "      <td>560</td>\n",
       "      <td>820</td>\n",
       "      <td>...</td>\n",
       "      <td>113</td>\n",
       "      <td>652</td>\n",
       "      <td>0</td>\n",
       "      <td>168</td>\n",
       "      <td>0</td>\n",
       "      <td>0</td>\n",
       "      <td>396</td>\n",
       "      <td>0</td>\n",
       "      <td>0</td>\n",
       "      <td>369</td>\n",
       "    </tr>\n",
       "    <tr>\n",
       "      <th>2010</th>\n",
       "      <td>718</td>\n",
       "      <td>1375</td>\n",
       "      <td>1170</td>\n",
       "      <td>445</td>\n",
       "      <td>571</td>\n",
       "      <td>463</td>\n",
       "      <td>1033</td>\n",
       "      <td>869</td>\n",
       "      <td>671</td>\n",
       "      <td>1097</td>\n",
       "      <td>...</td>\n",
       "      <td>350</td>\n",
       "      <td>1009</td>\n",
       "      <td>0</td>\n",
       "      <td>545</td>\n",
       "      <td>0</td>\n",
       "      <td>4</td>\n",
       "      <td>457</td>\n",
       "      <td>0</td>\n",
       "      <td>0</td>\n",
       "      <td>725</td>\n",
       "    </tr>\n",
       "    <tr>\n",
       "      <th>2011</th>\n",
       "      <td>1275</td>\n",
       "      <td>1813</td>\n",
       "      <td>1542</td>\n",
       "      <td>769</td>\n",
       "      <td>971</td>\n",
       "      <td>1071</td>\n",
       "      <td>1425</td>\n",
       "      <td>1133</td>\n",
       "      <td>983</td>\n",
       "      <td>1475</td>\n",
       "      <td>...</td>\n",
       "      <td>709</td>\n",
       "      <td>1367</td>\n",
       "      <td>0</td>\n",
       "      <td>705</td>\n",
       "      <td>0</td>\n",
       "      <td>51</td>\n",
       "      <td>468</td>\n",
       "      <td>0</td>\n",
       "      <td>0</td>\n",
       "      <td>1121</td>\n",
       "    </tr>\n",
       "    <tr>\n",
       "      <th>2012</th>\n",
       "      <td>1639</td>\n",
       "      <td>2254</td>\n",
       "      <td>1975</td>\n",
       "      <td>1025</td>\n",
       "      <td>1540</td>\n",
       "      <td>1804</td>\n",
       "      <td>1783</td>\n",
       "      <td>1538</td>\n",
       "      <td>1302</td>\n",
       "      <td>2065</td>\n",
       "      <td>...</td>\n",
       "      <td>969</td>\n",
       "      <td>1567</td>\n",
       "      <td>0</td>\n",
       "      <td>960</td>\n",
       "      <td>0</td>\n",
       "      <td>483</td>\n",
       "      <td>839</td>\n",
       "      <td>0</td>\n",
       "      <td>0</td>\n",
       "      <td>1317</td>\n",
       "    </tr>\n",
       "    <tr>\n",
       "      <th>2013</th>\n",
       "      <td>2273</td>\n",
       "      <td>2802</td>\n",
       "      <td>2513</td>\n",
       "      <td>1435</td>\n",
       "      <td>1851</td>\n",
       "      <td>2512</td>\n",
       "      <td>2244</td>\n",
       "      <td>1972</td>\n",
       "      <td>1662</td>\n",
       "      <td>2471</td>\n",
       "      <td>...</td>\n",
       "      <td>1115</td>\n",
       "      <td>1687</td>\n",
       "      <td>0</td>\n",
       "      <td>969</td>\n",
       "      <td>0</td>\n",
       "      <td>743</td>\n",
       "      <td>960</td>\n",
       "      <td>9</td>\n",
       "      <td>6</td>\n",
       "      <td>1441</td>\n",
       "    </tr>\n",
       "    <tr>\n",
       "      <th>2014</th>\n",
       "      <td>2632</td>\n",
       "      <td>3325</td>\n",
       "      <td>2903</td>\n",
       "      <td>1963</td>\n",
       "      <td>2228</td>\n",
       "      <td>2708</td>\n",
       "      <td>2615</td>\n",
       "      <td>2632</td>\n",
       "      <td>2057</td>\n",
       "      <td>2806</td>\n",
       "      <td>...</td>\n",
       "      <td>1267</td>\n",
       "      <td>1687</td>\n",
       "      <td>0</td>\n",
       "      <td>1201</td>\n",
       "      <td>164</td>\n",
       "      <td>767</td>\n",
       "      <td>968</td>\n",
       "      <td>339</td>\n",
       "      <td>159</td>\n",
       "      <td>1441</td>\n",
       "    </tr>\n",
       "    <tr>\n",
       "      <th>2015</th>\n",
       "      <td>3137</td>\n",
       "      <td>3699</td>\n",
       "      <td>3385</td>\n",
       "      <td>2525</td>\n",
       "      <td>2581</td>\n",
       "      <td>3199</td>\n",
       "      <td>2987</td>\n",
       "      <td>2996</td>\n",
       "      <td>2570</td>\n",
       "      <td>3133</td>\n",
       "      <td>...</td>\n",
       "      <td>1324</td>\n",
       "      <td>1687</td>\n",
       "      <td>439</td>\n",
       "      <td>1338</td>\n",
       "      <td>321</td>\n",
       "      <td>924</td>\n",
       "      <td>1163</td>\n",
       "      <td>520</td>\n",
       "      <td>281</td>\n",
       "      <td>1441</td>\n",
       "    </tr>\n",
       "    <tr>\n",
       "      <th>2016</th>\n",
       "      <td>4110</td>\n",
       "      <td>4098</td>\n",
       "      <td>3874</td>\n",
       "      <td>3373</td>\n",
       "      <td>3082</td>\n",
       "      <td>3426</td>\n",
       "      <td>3271</td>\n",
       "      <td>3390</td>\n",
       "      <td>3257</td>\n",
       "      <td>3634</td>\n",
       "      <td>...</td>\n",
       "      <td>1324</td>\n",
       "      <td>1687</td>\n",
       "      <td>469</td>\n",
       "      <td>1474</td>\n",
       "      <td>507</td>\n",
       "      <td>924</td>\n",
       "      <td>1262</td>\n",
       "      <td>877</td>\n",
       "      <td>726</td>\n",
       "      <td>1441</td>\n",
       "    </tr>\n",
       "    <tr>\n",
       "      <th>2017</th>\n",
       "      <td>4418</td>\n",
       "      <td>4540</td>\n",
       "      <td>4207</td>\n",
       "      <td>4014</td>\n",
       "      <td>3561</td>\n",
       "      <td>3626</td>\n",
       "      <td>3561</td>\n",
       "      <td>3778</td>\n",
       "      <td>3473</td>\n",
       "      <td>4132</td>\n",
       "      <td>...</td>\n",
       "      <td>1648</td>\n",
       "      <td>1687</td>\n",
       "      <td>807</td>\n",
       "      <td>1553</td>\n",
       "      <td>612</td>\n",
       "      <td>1112</td>\n",
       "      <td>1262</td>\n",
       "      <td>1158</td>\n",
       "      <td>726</td>\n",
       "      <td>1441</td>\n",
       "    </tr>\n",
       "    <tr>\n",
       "      <th>2018</th>\n",
       "      <td>4948</td>\n",
       "      <td>4985</td>\n",
       "      <td>4493</td>\n",
       "      <td>4014</td>\n",
       "      <td>4058</td>\n",
       "      <td>3994</td>\n",
       "      <td>4016</td>\n",
       "      <td>4129</td>\n",
       "      <td>3953</td>\n",
       "      <td>4217</td>\n",
       "      <td>...</td>\n",
       "      <td>1695</td>\n",
       "      <td>1687</td>\n",
       "      <td>1218</td>\n",
       "      <td>1553</td>\n",
       "      <td>1124</td>\n",
       "      <td>1364</td>\n",
       "      <td>1403</td>\n",
       "      <td>1459</td>\n",
       "      <td>927</td>\n",
       "      <td>1441</td>\n",
       "    </tr>\n",
       "    <tr>\n",
       "      <th>2019</th>\n",
       "      <td>5412</td>\n",
       "      <td>5368</td>\n",
       "      <td>4898</td>\n",
       "      <td>4706</td>\n",
       "      <td>4579</td>\n",
       "      <td>4484</td>\n",
       "      <td>4432</td>\n",
       "      <td>4411</td>\n",
       "      <td>4395</td>\n",
       "      <td>4217</td>\n",
       "      <td>...</td>\n",
       "      <td>1695</td>\n",
       "      <td>1687</td>\n",
       "      <td>1681</td>\n",
       "      <td>1554</td>\n",
       "      <td>1548</td>\n",
       "      <td>1529</td>\n",
       "      <td>1483</td>\n",
       "      <td>1464</td>\n",
       "      <td>1456</td>\n",
       "      <td>1441</td>\n",
       "    </tr>\n",
       "  </tbody>\n",
       "</table>\n",
       "<p>12 rows × 50 columns</p>\n",
       "</div>"
      ]
     },
     "metadata": {},
     "execution_count": 29
    }
   ],
   "metadata": {}
  },
  {
   "cell_type": "markdown",
   "source": [
    "# Visualize with animated graph using bar chart race"
   ],
   "metadata": {}
  },
  {
   "cell_type": "code",
   "execution_count": 30,
   "source": [
    "import bar_chart_race as bcr"
   ],
   "outputs": [],
   "metadata": {}
  },
  {
   "cell_type": "code",
   "execution_count": null,
   "source": [
    "bcr.bar_chart_race(bcrbatsmen, n_bars=10, fixed_max=True, steps_per_period=5, \n",
    "period_length= 800,filter_column_colors = True, cmap = 'Plotly', filename='final_runs.mp4',\n",
    "title = 'Total Runs Scored by the Top 10 Batsmen in IPL')"
   ],
   "outputs": [],
   "metadata": {}
  }
 ],
 "metadata": {
  "orig_nbformat": 4,
  "language_info": {
   "name": "python",
   "version": "3.8.10",
   "mimetype": "text/x-python",
   "codemirror_mode": {
    "name": "ipython",
    "version": 3
   },
   "pygments_lexer": "ipython3",
   "nbconvert_exporter": "python",
   "file_extension": ".py"
  },
  "kernelspec": {
   "name": "python3",
   "display_name": "Python 3.8.10 64-bit"
  },
  "interpreter": {
   "hash": "916dbcbb3f70747c44a77c7bcd40155683ae19c65e1c03b4aa3499c5328201f1"
  }
 },
 "nbformat": 4,
 "nbformat_minor": 2
}